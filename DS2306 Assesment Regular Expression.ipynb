{
 "cells": [
  {
   "cell_type": "code",
   "execution_count": 11,
   "id": "8156c952",
   "metadata": {},
   "outputs": [
    {
     "name": "stdout",
     "output_type": "stream",
     "text": [
      "Hello123 contains only allowed characters.\n",
      "GoodMorning contains only allowed characters.\n",
      "Hello@123 contains invalid characters.\n",
      "1234567890 contains only allowed characters.\n",
      "abcXYZ contains only allowed characters.\n",
      "Hello856 contains only allowed characters.\n"
     ]
    }
   ],
   "source": [
    "#Question 1 Write a Python program to check that a string contains only a certain set of characters (in this case a-z, A-Z and 0-9).\n",
    "\n",
    "def contains_only_allowed_characters(input_string):\n",
    "    allowed_characters = set('abcdefghijklmnopqrstuvwxyzABCDEFGHIJKLMNOPQRSTUVWXYZ0123456789')\n",
    "    return all(char in allowed_characters for char in input_string)\n",
    "\n",
    "test_strings = [\"Hello123\", \"GoodMorning\", \"Hello@123\", \"1234567890\", \"abcXYZ\",\"Hello856\"]\n",
    "for test_string in test_strings:\n",
    "    if contains_only_allowed_characters(test_string):\n",
    "        print(f\"{test_string} contains only allowed characters.\")\n",
    "    else:\n",
    "        print(f\"{test_string} contains invalid characters.\")\n"
   ]
  },
  {
   "cell_type": "code",
   "execution_count": 8,
   "id": "efdfb99c",
   "metadata": {},
   "outputs": [
    {
     "name": "stdout",
     "output_type": "stream",
     "text": [
      "ab matches the pattern.\n",
      "abb matches the pattern.\n",
      "abbbb matches the pattern.\n",
      "a matches the pattern.\n",
      "ac matches the pattern.\n",
      "abc matches the pattern.\n"
     ]
    }
   ],
   "source": [
    "#Question 2 Create a function in python that matches a string that has an a followed by zero or more b's\n",
    "\n",
    "import re\n",
    "def match_a_followed_by_bs(input_string):\n",
    "    pattern = r'a(b*)'\n",
    "    return bool(re.match(pattern, input_string))\n",
    "test_strings = [\"ab\", \"abb\", \"abbbb\", \"a\", \"ac\", \"abc\"]\n",
    "for test_string in test_strings:\n",
    "    if match_a_followed_by_bs(test_string):\n",
    "        print(f\"{test_string} matches the pattern.\")\n",
    "    else:\n",
    "        print(f\"{test_string} does not match the pattern.\")\n"
   ]
  },
  {
   "cell_type": "code",
   "execution_count": 9,
   "id": "4d480f5b",
   "metadata": {},
   "outputs": [
    {
     "name": "stdout",
     "output_type": "stream",
     "text": [
      "ab matches the pattern.\n",
      "abb matches the pattern.\n",
      "abbbb matches the pattern.\n",
      "a does not match the pattern.\n",
      "ac does not match the pattern.\n",
      "abc matches the pattern.\n"
     ]
    }
   ],
   "source": [
    "#Question 3 Create a function in python that matches a string that has an a followed by one or more b's\n",
    "\n",
    "import re\n",
    "def match_a_followed_by_one_or_more_bs(input_string):\n",
    "    pattern = r'a(b+)'\n",
    "    return bool(re.match(pattern, input_string))\n",
    "test_strings = [\"ab\", \"abb\", \"abbbb\", \"a\", \"ac\", \"abc\"]\n",
    "for test_string in test_strings:\n",
    "    if match_a_followed_by_one_or_more_bs(test_string):\n",
    "        print(f\"{test_string} matches the pattern.\")\n",
    "    else:\n",
    "        print(f\"{test_string} does not match the pattern.\")\n",
    "\n"
   ]
  },
  {
   "cell_type": "code",
   "execution_count": 10,
   "id": "7ef660c4",
   "metadata": {},
   "outputs": [
    {
     "name": "stdout",
     "output_type": "stream",
     "text": [
      "ab matches the pattern.\n",
      "abb matches the pattern.\n",
      "abbbb matches the pattern.\n",
      "a matches the pattern.\n",
      "ac matches the pattern.\n",
      "abc matches the pattern.\n"
     ]
    }
   ],
   "source": [
    "#Question 4 Create a function in Python and use RegEx that matches a string that has an a followed by zero or one 'b'.\n",
    "\n",
    "import re\n",
    "def match_a_followed_by_zero_or_one_b(input_string):\n",
    "    pattern = r'a(b?)'\n",
    "    return bool(re.match(pattern, input_string))\n",
    "test_strings = [\"ab\", \"abb\", \"abbbb\", \"a\", \"ac\", \"abc\"]\n",
    "for test_string in test_strings:\n",
    "    if match_a_followed_by_zero_or_one_b(test_string):\n",
    "        print(f\"{test_string} matches the pattern.\")\n",
    "    else:\n",
    "        print(f\"{test_string} does not match the pattern.\")\n"
   ]
  },
  {
   "cell_type": "code",
   "execution_count": 12,
   "id": "7949111e",
   "metadata": {},
   "outputs": [
    {
     "name": "stdout",
     "output_type": "stream",
     "text": [
      "abbb matches the pattern.\n",
      "abb does not match the pattern.\n",
      "abbbb matches the pattern.\n",
      "a does not match the pattern.\n",
      "ab does not match the pattern.\n",
      "abc does not match the pattern.\n"
     ]
    }
   ],
   "source": [
    "# Question 5 Write a Python program that matches a string that has an a followed by three 'b'.\n",
    "import re\n",
    "def match_a_followed_by_three_bs(input_string):\n",
    "    pattern = r'a(b{3})'\n",
    "    return bool(re.search(pattern, input_string))\n",
    "test_strings = [\"abbb\", \"abb\", \"abbbb\", \"a\", \"ab\", \"abc\"]\n",
    "for test_string in test_strings:\n",
    "    if match_a_followed_by_three_bs(test_string):\n",
    "        print(f\"{test_string} matches the pattern.\")\n",
    "    else:\n",
    "        print(f\"{test_string} does not match the pattern.\")\n"
   ]
  },
  {
   "cell_type": "code",
   "execution_count": 13,
   "id": "d9286068",
   "metadata": {},
   "outputs": [
    {
     "name": "stdout",
     "output_type": "stream",
     "text": [
      "['Importance', 'Of', 'Regular', 'Expressions', 'In', 'Python']\n"
     ]
    }
   ],
   "source": [
    "# question 6 Write a regular expression in Python to split a string into uppercase letters.\n",
    "#Sample text: “ImportanceOfRegularExpressionsInPython”\n",
    "#Output: [‘Importance’, ‘Of’, ‘Regular’, ‘Expression’, ‘In’, ‘Python’]\n",
    "\n",
    "import re\n",
    "def split_string_by_uppercase(input_string):\n",
    "    pattern = r'[A-Z][a-z]*'\n",
    "    return re.findall(pattern, input_string)\n",
    "sample_text = \"ImportanceOfRegularExpressionsInPython\"\n",
    "output = split_string_by_uppercase(sample_text)\n",
    "print(output)\n",
    "\n"
   ]
  },
  {
   "cell_type": "code",
   "execution_count": 14,
   "id": "c711d4ea",
   "metadata": {},
   "outputs": [
    {
     "name": "stdout",
     "output_type": "stream",
     "text": [
      "ab does not match the pattern.\n",
      "abb matches the pattern.\n",
      "abbb matches the pattern.\n",
      "abbbb matches the pattern.\n",
      "a does not match the pattern.\n",
      "abbbbcd matches the pattern.\n"
     ]
    }
   ],
   "source": [
    "#question 7 Write a Python program that matches a string that has an a followed by two to three 'b'.\n",
    "import re\n",
    "def match_a_followed_by_two_to_three_bs(input_string):\n",
    "    pattern = r'a(b{2,3})'\n",
    "    return bool(re.search(pattern, input_string))\n",
    "test_strings = [\"ab\", \"abb\", \"abbb\", \"abbbb\", \"a\", \"abbbbcd\"]\n",
    "for test_string in test_strings:\n",
    "    if match_a_followed_by_two_to_three_bs(test_string):\n",
    "        print(f\"{test_string} matches the pattern.\")\n",
    "    else:\n",
    "        print(f\"{test_string} does not match the pattern.\")\n"
   ]
  },
  {
   "cell_type": "code",
   "execution_count": 17,
   "id": "68c0abb4",
   "metadata": {},
   "outputs": [
    {
     "name": "stdout",
     "output_type": "stream",
     "text": [
      "['_xyz']\n"
     ]
    }
   ],
   "source": [
    "#Question 8 Write a Python program to find sequences of lowercase letters joined with a underscore.\n",
    "import re\n",
    "\n",
    "def find_lowercase_sequences_with_underscore(input_string):\n",
    "    pattern = r'[a-z]+(_[a-z]+)+' \n",
    "    return re.findall(pattern, input_string)\n",
    "sample_text = \"this_is_a_sample_text_with_multiple_lower_case_sequences_like_this_one_ab_cd_and_this_is_xyz\"\n",
    "sequences = find_lowercase_sequences_with_underscore(sample_text)\n",
    "print(sequences)\n",
    "\n",
    "\n",
    "\n"
   ]
  },
  {
   "cell_type": "code",
   "execution_count": 18,
   "id": "3e2cb005",
   "metadata": {},
   "outputs": [
    {
     "name": "stdout",
     "output_type": "stream",
     "text": [
      "ab matches the pattern.\n",
      "acb matches the pattern.\n",
      "abc does not match the pattern.\n",
      "abbbb matches the pattern.\n",
      "a does not match the pattern.\n",
      "abb matches the pattern.\n"
     ]
    }
   ],
   "source": [
    "#Question 9 Write a Python program that matches a string that has an 'a' followed by anything, ending in 'b'.\n",
    "\n",
    "import re\n",
    "def match_a_followed_by_anything_ending_with_b(input_string):\n",
    "    pattern = r'^a.*b$'\n",
    "    return bool(re.match(pattern, input_string))\n",
    "test_strings = [\"ab\", \"acb\", \"abc\", \"abbbb\", \"a\", \"abb\"]\n",
    "for test_string in test_strings:\n",
    "    if match_a_followed_by_anything_ending_with_b(test_string):\n",
    "        print(f\"{test_string} matches the pattern.\")\n",
    "    else:\n",
    "        print(f\"{test_string} does not match the pattern.\")\n"
   ]
  },
  {
   "cell_type": "code",
   "execution_count": 19,
   "id": "7691cc08",
   "metadata": {},
   "outputs": [
    {
     "name": "stdout",
     "output_type": "stream",
     "text": [
      "'apple' matches at the beginning of 'apple is a fruit'.\n",
      "'apple' does not match at the beginning of 'orange is also a fruit'.\n",
      "'apple' does not match at the beginning of 'pineapple is sweet'.\n",
      "'apple' does not match at the beginning of 'fruit is apple'.\n"
     ]
    }
   ],
   "source": [
    "#Question 10- Write a Python program that matches a word at the beginning of a string.\n",
    "\n",
    "import re\n",
    "def match_word_at_beginning(input_string, word):\n",
    "    pattern = fr'^\\b{re.escape(word)}'\n",
    "    return bool(re.search(pattern, input_string))\n",
    "test_strings = [\"apple is a fruit\", \"orange is also a fruit\", \"pineapple is sweet\", \"fruit is apple\"]\n",
    "word_to_match = \"apple\"\n",
    "for test_string in test_strings:\n",
    "    if match_word_at_beginning(test_string, word_to_match):\n",
    "        print(f\"'{word_to_match}' matches at the beginning of '{test_string}'.\")\n",
    "    else:\n",
    "        print(f\"'{word_to_match}' does not match at the beginning of '{test_string}'.\")\n"
   ]
  },
  {
   "cell_type": "code",
   "execution_count": 20,
   "id": "aaa7de73",
   "metadata": {},
   "outputs": [
    {
     "name": "stdout",
     "output_type": "stream",
     "text": [
      "'Hello123' is a valid string.\n",
      "'This_Is_Valid' is a valid string.\n",
      "'No@Special$Chars' is not a valid string.\n",
      "'Abc123_' is a valid string.\n"
     ]
    }
   ],
   "source": [
    "#Question 11 Write a Python program to match a string that contains only upper and lowercase letters, numbers, and underscores.\n",
    "\n",
    "import re\n",
    "def is_valid_string(input_string):\n",
    "    pattern = r'^[a-zA-Z0-9_]+$'\n",
    "    return bool(re.match(pattern, input_string))\n",
    "test_strings = [\"Hello123\", \"This_Is_Valid\", \"No@Special$Chars\", \"Abc123_\"]\n",
    "for test_string in test_strings:\n",
    "    if is_valid_string(test_string):\n",
    "        print(f\"'{test_string}' is a valid string.\")\n",
    "    else:\n",
    "        print(f\"'{test_string}' is not a valid string.\")\n"
   ]
  },
  {
   "cell_type": "code",
   "execution_count": 21,
   "id": "398b435e",
   "metadata": {},
   "outputs": [
    {
     "name": "stdout",
     "output_type": "stream",
     "text": [
      "'123abc' starts with 123.\n",
      "'456xyz' does not start with 123.\n",
      "'789test' does not start with 123.\n",
      "'2345hello' does not start with 123.\n",
      "'678' does not start with 123.\n",
      "'987test' does not start with 123.\n"
     ]
    }
   ],
   "source": [
    "#Question 12 Write a Python program where a string will start with a specific number. \n",
    "\n",
    "def starts_with_number(input_string, number):\n",
    "    return input_string.startswith(str(number))\n",
    "test_strings = [\"123abc\", \"456xyz\", \"789test\", \"2345hello\", \"678\", \"987test\"]\n",
    "specific_number = 123\n",
    "for test_string in test_strings:\n",
    "    if starts_with_number(test_string, specific_number):\n",
    "        print(f\"'{test_string}' starts with {specific_number}.\")\n",
    "    else:\n",
    "        print(f\"'{test_string}' does not start with {specific_number}.\")\n"
   ]
  },
  {
   "cell_type": "code",
   "execution_count": 22,
   "id": "9f5598dc",
   "metadata": {},
   "outputs": [
    {
     "name": "stdout",
     "output_type": "stream",
     "text": [
      "Original IP: 192.168.001.001, Cleaned IP: 192.168.1.1\n",
      "Original IP: 010.010.001.001, Cleaned IP: 10.10.1.1\n",
      "Original IP: 127.0.0.1, Cleaned IP: 127.0.0.1\n",
      "Original IP: 000.010.000.001, Cleaned IP: 0.10.0.1\n"
     ]
    }
   ],
   "source": [
    "# Question 13 Write a Python program to remove leading zeros from an IP address\n",
    "\n",
    "def remove_leading_zeros(ip_address):\n",
    "    octets = ip_address.split('.')\n",
    "    new_octets = [str(int(octet)) for octet in octets]\n",
    "    return '.'.join(new_octets)\n",
    "test_addresses = [\"192.168.001.001\", \"010.010.001.001\", \"127.0.0.1\", \"000.010.000.001\"]\n",
    "for address in test_addresses:\n",
    "    print(f\"Original IP: {address}, Cleaned IP: {remove_leading_zeros(address)}\")\n"
   ]
  },
  {
   "cell_type": "code",
   "execution_count": 30,
   "id": "5293020c",
   "metadata": {},
   "outputs": [
    {
     "name": "stdout",
     "output_type": "stream",
     "text": [
      "August 15th 1947\n"
     ]
    }
   ],
   "source": [
    "#Question 14 Write a regular expression in python to match a date string in the form of Month name followed by day number and year stored in a text file.\n",
    "import re\n",
    "def extract_date_from_text(text):\n",
    "    pattern = r'([A-Z][a-z]+ \\d{1,2}(st|nd|rd|th)? \\d{4})'\n",
    "    match = re.search(pattern, text)\n",
    "    return match.group(1) if match else None\n",
    "sample_text = \"On August 15th 1947 that India was declared independent from British colonialism, and the reins of control were handed over to the leaders of the Country.\"\n",
    "date_found = extract_date_from_text(sample_text)\n",
    "print(date_found)\n",
    "\n"
   ]
  },
  {
   "cell_type": "code",
   "execution_count": 31,
   "id": "f3a36dee",
   "metadata": {},
   "outputs": [
    {
     "name": "stdout",
     "output_type": "stream",
     "text": [
      "Found words: ['fox', 'dog']\n"
     ]
    }
   ],
   "source": [
    "#Question 15 Write a Python program to search some literals strings in a string. Go to the editor\n",
    "#Sample text : 'The quick brown fox jumps over the lazy dog.'\n",
    "#Searched words : 'fox', 'dog', 'horse'\n",
    "\n",
    "def search_words_in_text(text, searched_words):\n",
    "    found_words = [word for word in searched_words if word in text]\n",
    "    return found_words\n",
    "sample_text = 'The quick brown fox jumps over the lazy dog.'\n",
    "searched_words = ['fox', 'dog', 'horse']\n",
    "found_words = search_words_in_text(sample_text, searched_words)\n",
    "print(\"Found words:\", found_words)\n",
    "\n"
   ]
  },
  {
   "cell_type": "code",
   "execution_count": 33,
   "id": "37a773d4",
   "metadata": {},
   "outputs": [
    {
     "name": "stdout",
     "output_type": "stream",
     "text": [
      "Found positions: [16]\n"
     ]
    }
   ],
   "source": [
    "# Question 16 Write a Python program to search a literals string in a string and also find the location within the original string where the pattern occurs\n",
    "#Sample text : 'The quick brown fox jumps over the lazy dog.'\n",
    "#Searched words : 'fox'\n",
    "\n",
    "def search_word_in_text(text, word):\n",
    "    found_positions = []\n",
    "    index = 0\n",
    "    while True:\n",
    "        index = text.find(word, index)\n",
    "        if index == -1:\n",
    "            break\n",
    "        found_positions.append(index)\n",
    "        index += 1\n",
    "\n",
    "    return found_positions\n",
    "\n",
    "sample_text = 'The quick brown fox jumps over the lazy dog.'\n",
    "searched_word = 'fox'\n",
    "found_positions = search_word_in_text(sample_text, searched_word)\n",
    "print(\"Found positions:\", found_positions)\n",
    "\n",
    "\n"
   ]
  },
  {
   "cell_type": "code",
   "execution_count": 34,
   "id": "247827d4",
   "metadata": {},
   "outputs": [
    {
     "name": "stdout",
     "output_type": "stream",
     "text": [
      "Found positions: [7, 22, 36]\n"
     ]
    }
   ],
   "source": [
    "#Question 17- Write a Python program to find the substrings within a string.\n",
    "#Sample text : 'Python exercises, PHP exercises, C# exercises'\n",
    "#Pattern : 'exercises'.\n",
    "\n",
    "def find_substrings(text, pattern):\n",
    "    found_positions = []\n",
    "    index = 0\n",
    "    while True:\n",
    "        index = text.find(pattern, index)\n",
    "        if index == -1:\n",
    "            break\n",
    "        found_positions.append(index)\n",
    "        index += 1\n",
    "\n",
    "    return found_positions\n",
    "sample_text = 'Python exercises, PHP exercises, C# exercises'\n",
    "pattern = 'exercises'\n",
    "found_positions = find_substrings(sample_text, pattern)\n",
    "print(\"Found positions:\", found_positions)\n"
   ]
  },
  {
   "cell_type": "code",
   "execution_count": 35,
   "id": "40d8256d",
   "metadata": {},
   "outputs": [
    {
     "name": "stdout",
     "output_type": "stream",
     "text": [
      "Occurrences: 3\n",
      "Positions: [7, 22, 36]\n"
     ]
    }
   ],
   "source": [
    "# Question 18- Write a Python program to find the occurrence and position of the substrings within a string.\n",
    "\n",
    "def find_substrings(text, pattern):\n",
    "    found_positions = []\n",
    "    index = 0\n",
    "    while True:\n",
    "        index = text.find(pattern, index)\n",
    "        if index == -1:\n",
    "            break\n",
    "        found_positions.append(index)\n",
    "        index += 1\n",
    "\n",
    "    return found_positions\n",
    "\n",
    "def find_occurrence_and_position(text, pattern):\n",
    "    positions = find_substrings(text, pattern)\n",
    "    occurrences = len(positions)\n",
    "    return occurrences, positions\n",
    "sample_text = 'Python exercises, PHP exercises, C# exercises'\n",
    "pattern = 'exercises'\n",
    "occurrences, positions = find_occurrence_and_position(sample_text, pattern)\n",
    "\n",
    "print(\"Occurrences:\", occurrences)\n",
    "print(\"Positions:\", positions)\n"
   ]
  },
  {
   "cell_type": "code",
   "execution_count": 36,
   "id": "19627b73",
   "metadata": {},
   "outputs": [
    {
     "name": "stdout",
     "output_type": "stream",
     "text": [
      "Original Date: 2023-07-19\n",
      "Converted Date: 19-07-2023\n"
     ]
    }
   ],
   "source": [
    "# Question 19- Write a Python program to convert a date of yyyy-mm-dd format to dd-mm-yyyy format.\n",
    "\n",
    "def convert_date_format(date_str):\n",
    "    try:\n",
    "        # Split this with \"-\"\n",
    "        year, month, day = date_str.split('-')\n",
    "\n",
    "        # Rearrange this with \"-\"\n",
    "        new_date_str = f\"{day}-{month}-{year}\"\n",
    "        return new_date_str\n",
    "    except ValueError:\n",
    "                return None\n",
    "date_str = \"2023-07-19\"\n",
    "converted_date = convert_date_format(date_str)\n",
    "print(\"Original Date:\", date_str)\n",
    "print(\"Converted Date:\", converted_date)\n"
   ]
  },
  {
   "cell_type": "code",
   "execution_count": 37,
   "id": "e6279d4e",
   "metadata": {},
   "outputs": [
    {
     "name": "stdout",
     "output_type": "stream",
     "text": [
      "Words starting with 'a' or 'e': ['An', 'apple', 'and', 'an', 'elephant', 'entered']\n"
     ]
    }
   ],
   "source": [
    "# Question 20- Write a Python program to find all words starting with 'a' or 'e' in a given string.\n",
    "\n",
    "import re\n",
    "\n",
    "def find_words_starting_with_a_or_e(input_string):\n",
    "    pattern = r'\\b[aeAE]\\w+\\b'\n",
    "    return re.findall(pattern, input_string)\n",
    "sample_text = \"An apple and an elephant entered the room.\"\n",
    "words_found = find_words_starting_with_a_or_e(sample_text)\n",
    "print(\"Words starting with 'a' or 'e':\", words_found)\n"
   ]
  },
  {
   "cell_type": "code",
   "execution_count": 48,
   "id": "b9721073",
   "metadata": {},
   "outputs": [
    {
     "name": "stdout",
     "output_type": "stream",
     "text": [
      "Numbers with their positions: [(2023, 46)]\n"
     ]
    }
   ],
   "source": [
    "# Question 21- Write a Python program to separate and print the numbers and their position of a given string.\n",
    "import re\n",
    "\n",
    "def separate_numbers_with_positions(input_string):\n",
    "    numbers_with_positions = []\n",
    "    pattern = r'\\b\\d+\\b'\n",
    "    matches = re.finditer(pattern, input_string)\n",
    "    \n",
    "    for match in matches:\n",
    "        number = int(match.group())\n",
    "        position = match.start()\n",
    "        numbers_with_positions.append((number, position))\n",
    "    \n",
    "    return numbers_with_positions\n",
    "sample_text = \"The 10th edition of the book was published on 2023.\"\n",
    "numbers_positions = separate_numbers_with_positions(sample_text)\n",
    "print(\"Numbers with their positions:\", numbers_positions)\n",
    "\n",
    "\n"
   ]
  },
  {
   "cell_type": "code",
   "execution_count": 49,
   "id": "bc893005",
   "metadata": {},
   "outputs": [
    {
     "name": "stdout",
     "output_type": "stream",
     "text": [
      "Maximum numeric value: 42\n"
     ]
    }
   ],
   "source": [
    "#Question 22- Write a regular expression in python program to extract maximum numeric value from a string\n",
    "\n",
    "import re\n",
    "\n",
    "def extract_maximum_numeric_value(input_string):\n",
    "    pattern = r'\\b\\d+\\b'\n",
    "    numbers = [int(num) for num in re.findall(pattern, input_string)]\n",
    "    if numbers:\n",
    "        return max(numbers)\n",
    "    else:\n",
    "        return None\n",
    "sample_text = \"The maximum value is 42, and the minimum value is 18.\"\n",
    "max_value = extract_maximum_numeric_value(sample_text)\n",
    "print(\"Maximum numeric value:\", max_value)\n"
   ]
  },
  {
   "cell_type": "code",
   "execution_count": 50,
   "id": "e90d03fe",
   "metadata": {},
   "outputs": [
    {
     "name": "stdout",
     "output_type": "stream",
     "text": [
      "Formatted Text: Hello Sir  How Are You  Doing Today\n"
     ]
    }
   ],
   "source": [
    "# Question 23- Write a Regex in Python to put spaces between words starting with capital letters\n",
    "\n",
    "import re\n",
    "def add_spaces_to_capital_words(input_string):\n",
    "    pattern = r'([A-Z][a-z]+)'\n",
    "    spaced_string = re.sub(pattern, r' \\1', input_string)\n",
    "    return spaced_string.strip()\n",
    "sample_text = \"HelloSir HowAreYou DoingToday\"\n",
    "formatted_text = add_spaces_to_capital_words(sample_text)\n",
    "print(\"Formatted Text:\", formatted_text)\n",
    "\n"
   ]
  },
  {
   "cell_type": "code",
   "execution_count": 51,
   "id": "0487b439",
   "metadata": {},
   "outputs": [
    {
     "name": "stdout",
     "output_type": "stream",
     "text": [
      "Sequences found: ['The', 'Quick', 'Brown', 'Fox', 'Jumps', 'Over', 'The', 'Lazy', 'Dog']\n"
     ]
    }
   ],
   "source": [
    "# Question 24- Python regex to find sequences of one upper case letter followed by lower case letters\n",
    "\n",
    "import re\n",
    "\n",
    "def find_uppercase_lowercase_sequences(input_string):\n",
    "    pattern = r'[A-Z][a-z]+'\n",
    "    sequences = re.findall(pattern, input_string)\n",
    "    return sequences\n",
    "sample_text = \"The Quick Brown Fox Jumps Over The Lazy Dog.\"\n",
    "sequences_found = find_uppercase_lowercase_sequences(sample_text)\n",
    "print(\"Sequences found:\", sequences_found)\n"
   ]
  },
  {
   "cell_type": "code",
   "execution_count": 54,
   "id": "0cbbec3e",
   "metadata": {},
   "outputs": [
    {
     "name": "stdout",
     "output_type": "stream",
     "text": [
      "Cleaned Sentence: This is a test sentence with duplicate words.\n"
     ]
    }
   ],
   "source": [
    "#Question 25- Write a Python program to remove duplicate words from Sentence using Regular Expression\n",
    "\n",
    "import re\n",
    "\n",
    "def remove_duplicate_words(input_sentence):\n",
    "    pattern = r'\\b(\\w+)\\b\\s+\\b\\1\\b'\n",
    "    clean_sentence = re.sub(pattern, r'\\1', input_sentence)\n",
    "    return clean_sentence\n",
    "sample_sentence = \"This is is a test test sentence sentence with duplicate duplicate words.\"\n",
    "cleaned_sentence = remove_duplicate_words(sample_sentence)\n",
    "print(\"Cleaned Sentence:\", cleaned_sentence)\n",
    "\n"
   ]
  },
  {
   "cell_type": "code",
   "execution_count": 56,
   "id": "1dd46a34",
   "metadata": {},
   "outputs": [
    {
     "name": "stdout",
     "output_type": "stream",
     "text": [
      "True\n",
      "False\n",
      "False\n"
     ]
    }
   ],
   "source": [
    "# Question 26 Write a python program using RegEx to accept string ending with alphanumeric character.\n",
    "\n",
    "import re\n",
    "\n",
    "def is_string_ending_with_alphanumeric(input_string):\n",
    "    pattern = r'^.*[a-zA-Z0-9]$'\n",
    "    return bool(re.match(pattern, input_string))\n",
    "sample_string1 = \"Hello123\"\n",
    "sample_string2 = \"Testing!\"\n",
    "sample_string3 = \"Python123!\"\n",
    "print(is_string_ending_with_alphanumeric(sample_string1))  # True\n",
    "print(is_string_ending_with_alphanumeric(sample_string2))  # False\n",
    "print(is_string_ending_with_alphanumeric(sample_string3))  # False\n"
   ]
  },
  {
   "cell_type": "code",
   "execution_count": 59,
   "id": "bebff395",
   "metadata": {},
   "outputs": [
    {
     "name": "stdout",
     "output_type": "stream",
     "text": [
      "Hashtags found: ['#Doltiwal', '#xyzabc', '#Demonetization']\n"
     ]
    }
   ],
   "source": [
    "# Write a python program using RegEx to extract the hashtags.\n",
    "#Sample Text: text = \"\"\"RT @kapil_kausik: #Doltiwal I mean #xyzabc is \"hurt\" by #Demonetization as the same has rendered USELESS <ed><U+00A0><U+00BD><ed><U+00B1><U+0089> \"acquired funds\" No wo\"\"\"\n",
    "#Output: ['#Doltiwal', '#xyzabc', '#Demonetization']\n",
    "\n",
    "import re\n",
    "def extract_hashtags(input_text):\n",
    "    pattern = r'#\\w+'\n",
    "    hashtags = re.findall(pattern, input_text)\n",
    "    return hashtags\n",
    "sample_text = \"\"\"RT @kapil_kausik: #Doltiwal I mean #xyzabc is \"hurt\" by #Demonetization as the same has rendered USELESS <ed><U+00A0><U+00BD><ed><U+00B1><U+0089> \"acquired funds\" No wo\"\"\"\n",
    "hashtags_found = extract_hashtags(sample_text)\n",
    "print(\"Hashtags found:\", hashtags_found)\n",
    "\n"
   ]
  },
  {
   "cell_type": "code",
   "execution_count": 61,
   "id": "b8ae57c7",
   "metadata": {},
   "outputs": [
    {
     "name": "stdout",
     "output_type": "stream",
     "text": [
      "Cleaned Text: @Jags123456 Bharat band on 28??<ed><ed>Those who  are protesting #demonetization  are all different party leaders\n"
     ]
    }
   ],
   "source": [
    "# Question 28 Write a python program using RegEx to remove <U+..> like symbols\n",
    "#Check the below sample text, there are strange symbols something of the sort <U+..> all over the place. You need to come up with a general Regex expression that will cover all such symbols.\n",
    "#Sample Text: \"@Jags123456 Bharat band on 28??<ed><U+00A0><U+00BD><ed><U+00B8><U+0082>Those who  are protesting #demonetization  are all different party leaders\"\n",
    "#Output: @Jags123456 Bharat band on 28??<ed><ed>Those who  are protesting #demonetization  are all different party leaders\n",
    "\n",
    "import re\n",
    "\n",
    "def remove_u_plus_symbols(input_text):\n",
    "    pattern = r'<U\\+[A-Fa-f0-9]+>'\n",
    "    cleaned_text = re.sub(pattern, '', input_text)\n",
    "    return cleaned_text\n",
    "sample_text = \"@Jags123456 Bharat band on 28??<ed><U+00A0><U+00BD><ed><U+00B8><U+0082>Those who  are protesting #demonetization  are all different party leaders\"\n",
    "cleaned_text = remove_u_plus_symbols(sample_text)\n",
    "print(\"Cleaned Text:\", cleaned_text)\n",
    "\n"
   ]
  },
  {
   "cell_type": "code",
   "execution_count": 66,
   "id": "fbb70a98",
   "metadata": {},
   "outputs": [
    {
     "name": "stdout",
     "output_type": "stream",
     "text": [
      "Dates found: ['12-09-1992', '15-12-1999']\n"
     ]
    }
   ],
   "source": [
    "#Question 29- Write a python program to extract dates from the text stored in the text file.\n",
    "#Sample Text: Ron was born on 12-09-1992 and he was admitted to school 15-12-1999.\n",
    "#Store this sample text in the file and then extract dates.\n",
    "\n",
    "import re\n",
    "def extract_dates_from_text_file(file_path):\n",
    "    with open(file_path, 'r') as file:\n",
    "        file_content = file.read()\n",
    "    \n",
    "    pattern = r'\\b\\d{2}-\\d{2}-\\d{4}\\b'\n",
    "    dates = re.findall(pattern, file_content)\n",
    "    return dates\n",
    "file_path = r\"C:\\Users\\saksh\\Desktop\\Question Text.txt\"\n",
    "dates_found = extract_dates_from_text_file(file_path)\n",
    "print(\"Dates found:\", dates_found)\n",
    "\n",
    "\n"
   ]
  },
  {
   "cell_type": "code",
   "execution_count": 67,
   "id": "ef0928ba",
   "metadata": {},
   "outputs": [
    {
     "name": "stdout",
     "output_type": "stream",
     "text": [
      "Output: Python:Exercises::PHP:exercises:\n"
     ]
    }
   ],
   "source": [
    "# Question 30- Write a Python program to replace all occurrences of a space, comma, or dot with a colon.\n",
    "#Sample Text- 'Python Exercises, PHP exercises.'\n",
    "#Output: Python:Exercises::PHP:exercises:\n",
    "\n",
    "def replace_with_colon(input_text):\n",
    "    replacements = [' ', ',', '.']\n",
    "    for char in replacements:\n",
    "        input_text = input_text.replace(char, ':')\n",
    "    return input_text\n",
    "sample_text = 'Python Exercises, PHP exercises.'\n",
    "result_text = replace_with_colon(sample_text)\n",
    "print(\"Output:\", result_text)\n",
    "\n"
   ]
  },
  {
   "cell_type": "code",
   "execution_count": null,
   "id": "ff11c859",
   "metadata": {},
   "outputs": [],
   "source": []
  }
 ],
 "metadata": {
  "kernelspec": {
   "display_name": "Python 3 (ipykernel)",
   "language": "python",
   "name": "python3"
  },
  "language_info": {
   "codemirror_mode": {
    "name": "ipython",
    "version": 3
   },
   "file_extension": ".py",
   "mimetype": "text/x-python",
   "name": "python",
   "nbconvert_exporter": "python",
   "pygments_lexer": "ipython3",
   "version": "3.9.12"
  }
 },
 "nbformat": 4,
 "nbformat_minor": 5
}
